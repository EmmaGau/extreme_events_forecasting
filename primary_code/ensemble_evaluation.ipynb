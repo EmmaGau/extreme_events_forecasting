{
 "cells": [
  {
   "cell_type": "code",
   "execution_count": 1,
   "metadata": {},
   "outputs": [],
   "source": [
    "import xarray as xr\n",
    "import numpy as np\n",
    "import xarray as xr\n",
    "import os"
   ]
  },
  {
   "cell_type": "code",
   "execution_count": 2,
   "metadata": {},
   "outputs": [],
   "source": [
    "prediction_files = [\"/home/egauillard/extreme_events_forecasting/earthfomer_mediteranean/src/model/experiments/earthformer_era_20240807_180001_tp_coarse_t_s_gap_3_45/inference_plots/all_predictions.nc\",\n",
    "             \"/home/egauillard/extreme_events_forecasting/earthfomer_mediteranean/src/model/experiments/earthformer_era_20240807_174626_tp_coarse_t_s_gap_3_43/inference_plots/all_predictions.nc\",\n",
    "             \"/home/egauillard/extreme_events_forecasting/earthfomer_mediteranean/src/model/experiments/earthformer_era_20240806_163342_tp_coarse_t_s_gap_3_42/inference_plots/all_predictions.nc\",\n",
    "             \"/home/egauillard/extreme_events_forecasting/earthfomer_mediteranean/src/model/experiments/earthformer_era_20240801_190230__tp_coarse_t_s_gap_3_0/inference_plots/all_predictions.nc\"\n",
    "    ]\n",
    "\n",
    "climatology_file = \"/home/egauillard/extreme_events_forecasting/earthfomer_mediteranean/src/model/experiments/earthformer_era_20240807_180001_tp_coarse_t_s_gap_3_45/inference_plots/all_climatology.nc\"\n",
    "ground_truth_file = \"/home/egauillard/extreme_events_forecasting/earthfomer_mediteranean/src/model/experiments/earthformer_era_20240801_190230__tp_coarse_t_s_gap_3_0/inference_plots/all_ground_truths.nc\""
   ]
  },
  {
   "cell_type": "markdown",
   "metadata": {},
   "source": [
    "## Evaluation"
   ]
  },
  {
   "cell_type": "code",
   "execution_count": 4,
   "metadata": {},
   "outputs": [],
   "source": [
    "# The RPS aggregates the squared probability errors across K (K = 3 in this work) categories,\n",
    "#  such as tercile, arranged in ascending order. The tercile bounds are determined based on the average values over either 1-week or 2-week periods for each corresponding verifica- tion period\n",
    "#These calculations of tercile bounds are performed separately for each forecast model and observation (ERA5 data). The metric assesses the accuracy with which the probability forecast pre- dicts the actual observation category. \n",
    "\n",
    "class ModelEvaluation:\n",
    "    def __init__(self, prediction_files, ground_truth_file, climatology_file, save_folder):\n",
    "        self.prediction_datasets = [xr.open_dataset(file) for file in prediction_files]\n",
    "        self.ground_truth_dataset = xr.open_dataset(ground_truth_file)\n",
    "        self.climatology_dataset = xr.open_dataset(climatology_file)\n",
    "        self.save_folder = save_folder\n",
    "        os.makedirs(save_folder, exist_ok=True)\n",
    "        \n",
    "        self.target_variables = list(self.ground_truth_dataset.data_vars)\n",
    "\n",
    "    def calculate_rpss(self):\n",
    "        self.rpss = {var: [] for var in self.target_variables}\n",
    "        \n",
    "        for var in self.target_variables:\n",
    "            for model_idx, pred_dataset in enumerate(self.prediction_datasets):\n",
    "                rps_model = 0\n",
    "                rps_climatology = 0\n",
    "                \n",
    "                for lead_time in range(len(self.ground_truth_dataset.time)):\n",
    "                    truth = self.ground_truth_dataset[var].isel(time=lead_time).values.flatten()\n",
    "                    clim = self.climatology_dataset[var].isel(time=lead_time).values.flatten()\n",
    "                    pred = pred_dataset[var].isel(time=lead_time).values.flatten()\n",
    "\n",
    "                    # Calculate tercile bounds for this specific period\n",
    "                    categories = np.percentile(truth, [33.33, 66.67])\n",
    "\n",
    "                    prob_model = self._calculate_probabilities(pred, categories)\n",
    "                    prob_climatology = self._calculate_probabilities(clim, categories)\n",
    "                    obs_categorical = self._categorize_observations(truth, categories)\n",
    "\n",
    "                    rps_model += self._calculate_rps(prob_model, obs_categorical)\n",
    "                    rps_climatology += self._calculate_rps(prob_climatology, obs_categorical)\n",
    "\n",
    "                rps_model /= len(self.ground_truth_dataset.time)\n",
    "                rps_climatology /= len(self.ground_truth_dataset.time)\n",
    "                \n",
    "                rpss = 1 - (rps_model / rps_climatology)\n",
    "                self.rpss[var].append(rpss)\n",
    "\n",
    "    def _calculate_probabilities(self, data, categories):\n",
    "        probabilities = np.zeros((len(data), 3))  # 3 categories for terciles\n",
    "        probabilities[:, 0] = np.sum(data <= categories[0], axis=0) / len(data)\n",
    "        probabilities[:, 1] = np.sum((data > categories[0]) & (data <= categories[1]), axis=0) / len(data)\n",
    "        probabilities[:, 2] = np.sum(data > categories[1], axis=0) / len(data)\n",
    "        return probabilities\n",
    "\n",
    "    def _categorize_observations(self, observations, categories):\n",
    "        obs_categorical = np.digitize(observations, bins=categories)\n",
    "        return obs_categorical\n",
    "\n",
    "    def _calculate_rps(self, forecast_probabilities, obs_categorical):\n",
    "        rps = 0\n",
    "        for i in range(len(obs_categorical)):\n",
    "            obs_cdf = np.cumsum(np.eye(3)[obs_categorical[i]])  # 3 categories for terciles\n",
    "            forecast_cdf = np.cumsum(forecast_probabilities[i])\n",
    "            rps += np.sum((forecast_cdf - obs_cdf) ** 2)\n",
    "        rps /= len(obs_categorical)\n",
    "        return rps\n",
    "\n",
    "    def save_rpss_to_csv(self):\n",
    "        df = pd.DataFrame()\n",
    "        for var in self.target_variables:\n",
    "            df[f'{var}_rpss'] = self.rpss[var]\n",
    "        \n",
    "        # Calculer les moyennes de chaque colonne\n",
    "        means = df.mean()\n",
    "        \n",
    "        # Ajouter une ligne de séparation (optionnel)\n",
    "        df.loc['---'] = '---'\n",
    "        \n",
    "        # Ajouter la ligne des moyennes\n",
    "        df.loc['Mean'] = means\n",
    "        \n",
    "        # Sauvegarder le DataFrame en CSV\n",
    "        df.to_csv(os.path.join(self.save_folder, 'rpss_results.csv'), index=True)\n",
    "\n",
    "# Usage\n",
    "save_folder = './evaluation_results'\n",
    "\n",
    "evaluator = ModelEvaluation(prediction_files, ground_truth_file, climatology_file, save_folder)\n",
    "evaluator.calculate_rpss()\n",
    "evaluator.save_rpss_to_csv()"
   ]
  },
  {
   "cell_type": "code",
   "execution_count": null,
   "metadata": {},
   "outputs": [],
   "source": []
  },
  {
   "cell_type": "code",
   "execution_count": null,
   "metadata": {},
   "outputs": [],
   "source": []
  }
 ],
 "metadata": {
  "kernelspec": {
   "display_name": "extreme_events_env",
   "language": "python",
   "name": "python3"
  },
  "language_info": {
   "codemirror_mode": {
    "name": "ipython",
    "version": 3
   },
   "file_extension": ".py",
   "mimetype": "text/x-python",
   "name": "python",
   "nbconvert_exporter": "python",
   "pygments_lexer": "ipython3",
   "version": "3.11.3"
  }
 },
 "nbformat": 4,
 "nbformat_minor": 2
}
